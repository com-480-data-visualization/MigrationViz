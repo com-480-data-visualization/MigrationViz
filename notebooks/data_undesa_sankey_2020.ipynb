{
 "cells": [
  {
   "cell_type": "code",
   "execution_count": 1,
   "metadata": {},
   "outputs": [
    {
     "name": "stdout",
     "output_type": "stream",
     "text": [
      "/home/lola/Documents/Études/EPFL/MA2/Data Visualization/MigrationViz\n"
     ]
    }
   ],
   "source": [
    "import pandas as pd\n",
    "import numpy as np\n",
    "import math\n",
    "import json\n",
    "import os\n",
    "\n",
    "# ATTENTION : under windows split on \"\\\\\", under linux split on \"/\"\n",
    "if os.getcwd().split(\"/\")[-1] == \"notebooks\":\n",
    "    os.chdir(\"..\")\n",
    "print(os.getcwd())\n",
    "\n",
    "from matplotlib import pyplot as plt\n",
    "import seaborn as sns\n",
    "\n",
    "import utils"
   ]
  },
  {
   "cell_type": "code",
   "execution_count": 2,
   "metadata": {},
   "outputs": [],
   "source": [
    "# Initialization\n",
    "PATH_WORLD = \"data_world/\"\n",
    "SEX_DESTINATION_ORIGIN = PATH_WORLD + \"undesa_pd_2020_ims_stock_by_sex_destination_and_origin.xlsx\""
   ]
  },
  {
   "cell_type": "code",
   "execution_count": 3,
   "metadata": {},
   "outputs": [],
   "source": [
    "# Import table\n",
    "sankey_2020 = pd.read_excel(SEX_DESTINATION_ORIGIN, sheet_name=\"Table 2\", index_col=0, skiprows=9, na_values='..')\n",
    "\n",
    "# Keep only lines of interest\n",
    "sankey_2020 = sankey_2020[22:]\n",
    "\n",
    "# Drop columns of no interest (keep only continent and sub-continent)\n",
    "column_index = [1, 2, 3] + [x for x in range(4,24)]\n",
    "columns_to_drop = sankey_2020.columns[column_index]\n",
    "sankey_2020.drop(axis='columns', columns=columns_to_drop, inplace=True)\n",
    "\n",
    "# Reset index \n",
    "sankey_2020.reset_index(drop=True, inplace=True)\n",
    "\n",
    "# Rename columns\n",
    "sankey_2020.rename(columns={\"Region, development group of destination\": \"destination_region\",\n",
    "                            \"Unnamed: 3\":\"location_code\"}, inplace=True)\n",
    "\n",
    "# Remove .1 and * details\n",
    "sankey_2020.columns = sankey_2020.columns.str.replace(r'[*\\.1]', '', regex=True)\n",
    "sankey_2020[\"destination_region\"] = sankey_2020.destination_region.str.replace(\"*\",\"\")\n",
    "\n",
    "# Remove stupid space in front of names in column and rows\n",
    "sankey_2020.columns = [col.strip() for col in sankey_2020.columns]\n",
    "sankey_2020[\"destination_region\"] = sankey_2020[\"destination_region\"].str.strip()"
   ]
  },
  {
   "cell_type": "code",
   "execution_count": 11,
   "metadata": {},
   "outputs": [
    {
     "name": "stdout",
     "output_type": "stream",
     "text": [
      "['Eastern Africa', 'Middle Africa', 'Northern Africa', 'Southern Africa', 'Western Africa', 'Central Asia', 'Eastern Asia', 'South-Eastern Asia', 'Southern Asia', 'Western Asia', 'Eastern Europe', 'Northern Europe', 'Southern Europe', 'Western Europe', 'Caribbean', 'Central America', 'South America', 'Australia and New Zealand', 'Melanesia', 'Micronesia', 'Polynesia']\n",
      "['Eastern Africa', 'Middle Africa', 'Northern Africa', 'Southern Africa', 'Western Africa', 'Central Asia', 'Eastern Asia', 'South-Eastern Asia', 'Southern Asia', 'Western Asia', 'Eastern Europe', 'Northern Europe', 'Southern Europe', 'Western Europe', 'Caribbean', 'Central America', 'South America', 'Australia and New Zealand', 'Melanesia', 'NORTHERN AMERICA', 'OCEANIA', 'OTHER']\n"
     ]
    }
   ],
   "source": [
    "# Northern america is both a continent and a subregion, it must be present in both continent list and sub_continent \n",
    "# Due to incomplete numbers for other sub_continents of Oceania except Australia & New Zealand, Oceania will be used both as a sub_continent and a continent\n",
    "# OTHER, representing 12 millions people world-wide, needs to be taken into account every where. \n",
    "# TODO Make sure it does not cause problems later number wise \n",
    "\n",
    "# \n",
    "continent = [\"AFRICA\", \"ASIA\", \"EUROPE\", \"LATIN AMERICA AND THE CARIBBEAN\", \"NORTHERN AMERICA\", \"OCEANIA\", \"OTHER\"]\n",
    "common_columns = [\"destination_region\"]\n",
    "continent_subregion = [\"NORTHERN AMERICA\", \"OCEANIA\", \"OTHER\"]\n",
    "sub_continent = [x for x in sankey_2020.columns if x not in continent and x not in common_columns]\n",
    "print(sub_continent)\n",
    "# sub_continent.insert(0, common_columns[1])\n",
    "# sub_continent.insert(0, common_columns[0])\n",
    "\n",
    "# Add to sub continent: \n",
    "sub_continent.insert(19, continent_subregion[0]) # NORTHERN AMERICA\n",
    "sub_continent.insert(20, continent_subregion[1]) # OCEANIA\n",
    "sub_continent.insert(len(sub_continent), continent_subregion[-1]) # OTHER\n",
    "\n",
    "# Remove micronesia & polynesia from sub_continent\n",
    "sub_continent.remove('Micronesia')\n",
    "sub_continent.remove('Polynesia')\n",
    "\n",
    "print(sub_continent)"
   ]
  },
  {
   "cell_type": "code",
   "execution_count": 5,
   "metadata": {},
   "outputs": [
    {
     "data": {
      "text/html": [
       "<div>\n",
       "<style scoped>\n",
       "    .dataframe tbody tr th:only-of-type {\n",
       "        vertical-align: middle;\n",
       "    }\n",
       "\n",
       "    .dataframe tbody tr th {\n",
       "        vertical-align: top;\n",
       "    }\n",
       "\n",
       "    .dataframe thead th {\n",
       "        text-align: right;\n",
       "    }\n",
       "</style>\n",
       "<table border=\"1\" class=\"dataframe\">\n",
       "  <thead>\n",
       "    <tr style=\"text-align: right;\">\n",
       "      <th></th>\n",
       "      <th>destination_region</th>\n",
       "      <th>AFRICA</th>\n",
       "      <th>ASIA</th>\n",
       "      <th>EUROPE</th>\n",
       "      <th>LATIN AMERICA AND THE CARIBBEAN</th>\n",
       "      <th>NORTHERN AMERICA</th>\n",
       "      <th>OCEANIA</th>\n",
       "      <th>OTHER</th>\n",
       "    </tr>\n",
       "  </thead>\n",
       "  <tbody>\n",
       "    <tr>\n",
       "      <th>0</th>\n",
       "      <td>AFRICA</td>\n",
       "      <td>20917565</td>\n",
       "      <td>1207631</td>\n",
       "      <td>648455</td>\n",
       "      <td>32524</td>\n",
       "      <td>53563</td>\n",
       "      <td>14483</td>\n",
       "      <td>2515243</td>\n",
       "    </tr>\n",
       "    <tr>\n",
       "      <th>6</th>\n",
       "      <td>ASIA</td>\n",
       "      <td>4720103</td>\n",
       "      <td>68497762</td>\n",
       "      <td>7169630</td>\n",
       "      <td>414658</td>\n",
       "      <td>538199</td>\n",
       "      <td>101725</td>\n",
       "      <td>4176425</td>\n",
       "    </tr>\n",
       "    <tr>\n",
       "      <th>12</th>\n",
       "      <td>EUROPE</td>\n",
       "      <td>11024274</td>\n",
       "      <td>23203976</td>\n",
       "      <td>44246425</td>\n",
       "      <td>5395924</td>\n",
       "      <td>1100304</td>\n",
       "      <td>397036</td>\n",
       "      <td>1338129</td>\n",
       "    </tr>\n",
       "    <tr>\n",
       "      <th>17</th>\n",
       "      <td>LATIN AMERICA AND THE CARIBBEAN</td>\n",
       "      <td>48791</td>\n",
       "      <td>402369</td>\n",
       "      <td>1355886</td>\n",
       "      <td>11297173</td>\n",
       "      <td>1293053</td>\n",
       "      <td>5630</td>\n",
       "      <td>391721</td>\n",
       "    </tr>\n",
       "    <tr>\n",
       "      <th>21</th>\n",
       "      <td>NORTHERN AMERICA</td>\n",
       "      <td>3268757</td>\n",
       "      <td>17549235</td>\n",
       "      <td>6869872</td>\n",
       "      <td>25535633</td>\n",
       "      <td>1088520</td>\n",
       "      <td>343625</td>\n",
       "      <td>4053153</td>\n",
       "    </tr>\n",
       "    <tr>\n",
       "      <th>22</th>\n",
       "      <td>OCEANIA</td>\n",
       "      <td>587673</td>\n",
       "      <td>4050511</td>\n",
       "      <td>2983395</td>\n",
       "      <td>214569</td>\n",
       "      <td>254319</td>\n",
       "      <td>1107706</td>\n",
       "      <td>182480</td>\n",
       "    </tr>\n",
       "  </tbody>\n",
       "</table>\n",
       "</div>"
      ],
      "text/plain": [
       "                 destination_region    AFRICA      ASIA    EUROPE  \\\n",
       "0                            AFRICA  20917565   1207631    648455   \n",
       "6                              ASIA   4720103  68497762   7169630   \n",
       "12                           EUROPE  11024274  23203976  44246425   \n",
       "17  LATIN AMERICA AND THE CARIBBEAN     48791    402369   1355886   \n",
       "21                 NORTHERN AMERICA   3268757  17549235   6869872   \n",
       "22                          OCEANIA    587673   4050511   2983395   \n",
       "\n",
       "    LATIN AMERICA AND THE CARIBBEAN  NORTHERN AMERICA  OCEANIA    OTHER  \n",
       "0                             32524             53563    14483  2515243  \n",
       "6                            414658            538199   101725  4176425  \n",
       "12                          5395924           1100304   397036  1338129  \n",
       "17                         11297173           1293053     5630   391721  \n",
       "21                         25535633           1088520   343625  4053153  \n",
       "22                           214569            254319  1107706   182480  "
      ]
     },
     "metadata": {},
     "output_type": "display_data"
    },
    {
     "name": "stdout",
     "output_type": "stream",
     "text": [
      "{'nodes': [{'node': 0, 'name': 'AFRICA'}, {'node': 1, 'name': 'ASIA'}, {'node': 2, 'name': 'EUROPE'}, {'node': 3, 'name': 'LATIN AMERICA AND THE CARIBBEAN'}, {'node': 4, 'name': 'NORTHERN AMERICA'}, {'node': 5, 'name': 'OCEANIA'}, {'node': 6, 'name': 'OTHER'}], 'links': [{'source': 0, 'target': 0, 'value': 20917565}, {'source': 0, 'target': 1, 'value': 4720103}, {'source': 0, 'target': 2, 'value': 11024274}, {'source': 0, 'target': 3, 'value': 48791}, {'source': 0, 'target': 4, 'value': 3268757}, {'source': 0, 'target': 5, 'value': 587673}, {'source': 1, 'target': 0, 'value': 1207631}, {'source': 1, 'target': 1, 'value': 68497762}, {'source': 1, 'target': 2, 'value': 23203976}, {'source': 1, 'target': 3, 'value': 402369}, {'source': 1, 'target': 4, 'value': 17549235}, {'source': 1, 'target': 5, 'value': 4050511}, {'source': 2, 'target': 0, 'value': 648455}, {'source': 2, 'target': 1, 'value': 7169630}, {'source': 2, 'target': 2, 'value': 44246425}, {'source': 2, 'target': 3, 'value': 1355886}, {'source': 2, 'target': 4, 'value': 6869872}, {'source': 2, 'target': 5, 'value': 2983395}, {'source': 3, 'target': 0, 'value': 32524}, {'source': 3, 'target': 1, 'value': 414658}, {'source': 3, 'target': 2, 'value': 5395924}, {'source': 3, 'target': 3, 'value': 11297173}, {'source': 3, 'target': 4, 'value': 25535633}, {'source': 3, 'target': 5, 'value': 214569}, {'source': 4, 'target': 0, 'value': 53563}, {'source': 4, 'target': 1, 'value': 538199}, {'source': 4, 'target': 2, 'value': 1100304}, {'source': 4, 'target': 3, 'value': 1293053}, {'source': 4, 'target': 4, 'value': 1088520}, {'source': 4, 'target': 5, 'value': 254319}, {'source': 5, 'target': 0, 'value': 14483}, {'source': 5, 'target': 1, 'value': 101725}, {'source': 5, 'target': 2, 'value': 397036}, {'source': 5, 'target': 3, 'value': 5630}, {'source': 5, 'target': 4, 'value': 343625}, {'source': 5, 'target': 5, 'value': 1107706}, {'source': 6, 'target': 0, 'value': 2515243}, {'source': 6, 'target': 1, 'value': 4176425}, {'source': 6, 'target': 2, 'value': 1338129}, {'source': 6, 'target': 3, 'value': 391721}, {'source': 6, 'target': 4, 'value': 4053153}, {'source': 6, 'target': 5, 'value': 182480}]}\n"
     ]
    }
   ],
   "source": [
    "# First try : with continent only \n",
    "sankey_2020_continent = sankey_2020.copy(deep=True)\n",
    "sankey_2020_continent = sankey_2020_continent[common_columns + continent]\n",
    "\n",
    "filt_continent = sankey_2020_continent[\"destination_region\"].isin(continent)\n",
    "sankey_2020_continent = sankey_2020_continent[filt_continent]\n",
    "display(sankey_2020_continent)\n",
    "\n",
    "# Melt dataframe to convert it into long format\n",
    "sankey_2020_continent_melted = sankey_2020_continent.melt(id_vars='destination_region', var_name='source', value_name='value')\n",
    "\n",
    "# Create indices for the nodes\n",
    "nodes = sorted(set(sankey_2020_continent_melted['destination_region']).union(set(sankey_2020_continent_melted['source'])))\n",
    "nodes_indices = {node: idx for idx, node in enumerate(nodes)}\n",
    "\n",
    "# List of nodes\n",
    "nodes_list = [{'node': idx, 'name': node} for idx, node in enumerate(nodes)]\n",
    "\n",
    "# List of links\n",
    "# Something is really not logical here\n",
    "links_list = [{'source': nodes_indices[row['source']] , 'target': nodes_indices[row['destination_region']], 'value': row['value']} for _, row in sankey_2020_continent_melted.iterrows()]\n",
    "\n",
    "sankey_2020_continent_json = {'nodes': nodes_list, 'links': links_list}\n",
    "print(sankey_2020_continent_json)"
   ]
  },
  {
   "cell_type": "code",
   "execution_count": 6,
   "metadata": {},
   "outputs": [
    {
     "name": "stdout",
     "output_type": "stream",
     "text": [
      "JSON file saved successfully\n"
     ]
    }
   ],
   "source": [
    "# Export the json data to a document\n",
    "with open('./data_world/sankey_2020_continent.json', 'w') as f:\n",
    "    json.dump(sankey_2020_continent_json, f, )\n",
    "\n",
    "print('JSON file saved successfully')"
   ]
  }
 ],
 "metadata": {
  "kernelspec": {
   "display_name": "ada",
   "language": "python",
   "name": "python3"
  },
  "language_info": {
   "codemirror_mode": {
    "name": "ipython",
    "version": 3
   },
   "file_extension": ".py",
   "mimetype": "text/x-python",
   "name": "python",
   "nbconvert_exporter": "python",
   "pygments_lexer": "ipython3",
   "version": "3.9.18"
  }
 },
 "nbformat": 4,
 "nbformat_minor": 2
}
