{
 "cells": [
  {
   "cell_type": "code",
   "execution_count": 3,
   "metadata": {},
   "outputs": [],
   "source": [
    "import csv\n",
    "import json\n",
    "from datetime import datetime"
   ]
  },
  {
   "cell_type": "code",
   "execution_count": 4,
   "metadata": {},
   "outputs": [],
   "source": [
    "def is_int(string):\n",
    "    try:\n",
    "        int(string)\n",
    "        return True\n",
    "    except ValueError:\n",
    "        return False\n",
    "\n",
    "def is_float(string):\n",
    "    try:\n",
    "        float(string)\n",
    "        return True\n",
    "    except ValueError:\n",
    "        return False\n",
    "\n",
    "def is_dd_mm_yy_format(string):\n",
    "    format = \"%d/%m/%y\"\n",
    "    try:\n",
    "        bool(datetime.strptime(string, format))\n",
    "        return True\n",
    "    except ValueError:\n",
    "        return False\n",
    "\n",
    "# Read data that is complete \n",
    "data = []\n",
    "with open('../data_world/Dataset_Border_Forensic.xlsx', newline='') as csvfile:\n",
    "    reader = csv.DictReader(csvfile)\n",
    "    for row in reader:\n",
    "        # print(is_float(row['latitude']), is_float(row['longitude']), row['latitude'], row['longitude'])\n",
    "        if is_float(row['longitude']) and is_float(row['latitude']) and is_int(row['Number of deaths']):\n",
    "            data.append(dict(long = float(row['longitude']), lat = float(row['latitude']), name = str(row['name, gender, age']), date_sorted = str(row['DATE to SORT FILE']), num_death = str(row['Number of deaths']), cause_death = str(row['cause of death'])))"
   ]
  },
  {
   "cell_type": "code",
   "execution_count": 9,
   "metadata": {},
   "outputs": [],
   "source": [
    "# Save data\n",
    "with open(\"../../website/data/united_data.json\", \"w\") as outfile: \n",
    "    json.dump(data, outfile)"
   ]
  }
 ],
 "metadata": {
  "kernelspec": {
   "display_name": "bio411",
   "language": "python",
   "name": "python3"
  },
  "language_info": {
   "codemirror_mode": {
    "name": "ipython",
    "version": 3
   },
   "file_extension": ".py",
   "mimetype": "text/x-python",
   "name": "python",
   "nbconvert_exporter": "python",
   "pygments_lexer": "ipython3",
   "version": "3.9.18"
  }
 },
 "nbformat": 4,
 "nbformat_minor": 2
}
