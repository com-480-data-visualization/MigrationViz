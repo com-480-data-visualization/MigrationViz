{
 "cells": [
  {
   "cell_type": "code",
   "execution_count": 7,
   "metadata": {},
   "outputs": [],
   "source": [
    "import pandas as pd\n",
    "import json"
   ]
  },
  {
   "cell_type": "code",
   "execution_count": null,
   "metadata": {},
   "outputs": [],
   "source": [
    "# Define which M49 codes to use (removed regions like \"Europe\", only kept indivisual countries)\n",
    "M49 = [108,174,262,232,231,404,450,454,480,175,508,638,646,690,706,728,800,834,894,716,24,120,140,148,178,180,226,266,678,12,818,434,504,729,788,732,72,748,426,516,710,204,854,132,384,270,288,324,624,430,466,478,562,566,654,686,694,768,398,417,762,795,860,156,344,446,158,408,392,496,410,96,116,360,418,458,104,608,702,764,626,704,4,50,64,356,364,462,524,586,144,51,31,48,196,268,368,376,400,414,422,512,634,682,275,760,792,784,887,112,100,203,348,616,498,642,643,703,804,830,208,233,234,246,352,372,833,428,440,578,752,826,8,20,70,191,292,300,336,380,470,499,807,620,674,688,705,724,40,56,250,276,438,442,492,528,756,660,28,533,44,52,535,92,136,192,531,212,214,308,312,332,388,474,500,630,652,659,662,663,670,534,780,796,850,84,188,222,320,340,484,558,591,32,68,76,152,170,218,238,254,328,600,604,740,858,862,60,124,304,666,840,36,554,242,540,598,90,548,316,296,584,583,520,580,585,16,184,258,570,882,772,776,798,876]\n",
    "# If I would like to filter out only the important values\n",
    "# mask = df['Subscription'].isin(active_statuses)"
   ]
  },
  {
   "cell_type": "code",
   "execution_count": 9,
   "metadata": {},
   "outputs": [],
   "source": [
    "# Data from \"undesa_pd_2020_ims_stock_by_sex_and_destination\"\n",
    "# Read excel file\n",
    "xls = pd.ExcelFile(\n",
    "    '../data_world/undesa_pd_2020_ims_stock_by_sex_and_destination.xlsx')\n",
    "# Names, M49 location codes and how the data was estimated \n",
    "dfNamesCodesTypes = pd.read_excel(xls, 'Table 1', header=10, usecols=\"B, D, E\")\n",
    "# Formatting \n",
    "dfNamesCodesTypes[\"Region, development group, country or area\"] = dfNamesCodesTypes[\"Region, development group, country or area\"].str.strip().str.rstrip('*')\n",
    "dfNamesCodesTypes[\"Type of data\"].fillna('NaN', inplace=True)\n",
    "# df1 --> \"Table 1\" --> \"International migrant stock at mid-year, both sexes combined\"\n",
    "# df2 --> \"Table 2\" --> \"Total population at mid-year, both sexes combined (thousands)\"\n",
    "# df3 --> \"Table 3\" --> \"International migrant stock as a percentage of the total population, both sexes combined\"\n",
    "# df4 --> \"Table 5\" --> \"Annual rate of change of the migrant stock, both sexes combined\"\n",
    "# df5 --> \"Table 6\" --> \"Refugee and asylum seekers at mid-year, both sexes combined\"\n",
    "# df6 --> \"Table 6\" --> \"Refugee and asylum seekers as a percentage of the international migrant stock\"\n",
    "# df7 --> \"Table 6\" --> \"Annual rate of change of the refugee and asylum seekers, both sexes combined\"\n",
    "df1 = pd.read_excel(xls, 'Table 1', header=10, usecols=\"F:L\")\n",
    "df2 = pd.read_excel(xls, 'Table 2', header=10, usecols=\"F:L\")\n",
    "df3 = pd.read_excel(xls, 'Table 3', header=10, usecols=\"F:L\")\n",
    "df4 = pd.read_excel(xls, 'Table 5', header=10, usecols=\"F:K\")\n",
    "df5 = pd.read_excel(xls, 'Table 6', header=10, usecols=\"F:L\")\n",
    "df6 = pd.read_excel(xls, 'Table 6', header=10, usecols=\"M:S\")\n",
    "df7 = pd.read_excel(xls, 'Table 6', header=10, usecols=\"T:Y\")\n",
    "\n",
    "data_dtfs = [df1, df2, df3, df4, df5, df6, df7]\n",
    "descriptions = [\"International migrant stock at mid-year, both sexes combined\",\n",
    "                \"Total population at mid-year, both sexes combined (thousands)\",\n",
    "                \"International migrant stock as a percentage of the total population, both sexes combined\",\n",
    "                \"Annual rate of change of the migrant stock, both sexes combined\",\n",
    "                \"Refugee and asylum seekers at mid-year, both sexes combined\",\n",
    "                \"Refugee and asylum seekers as a percentage of the international migrant stock\",\n",
    "                \"Annual rate of change of the refugee and asylum seekers, both sexes combined\"]\n",
    "\n",
    "# Data structure:\n",
    "# The location codes and orders are the same for all tables\n",
    "# Since the M49 codes (\"code\") and names of the country/region/... names (\"names\") are always\n",
    "# the same order for each table they only appear once in the beginning\n",
    "# Below the envisionned structure of the json\n",
    "# {\"name\": [...], \"code\": [...], \"type\": [...], \"data\": [{\"description\": \"...\", \"data\": {\"1995\": [...], ...}}, ...]}\n",
    "data_undesa = {\n",
    "    \"name\": dfNamesCodesTypes[\"Region, development group, country or area\"].tolist(),\n",
    "    \"code\": dfNamesCodesTypes[\"Location code\"].tolist(),\n",
    "    \"type\": dfNamesCodesTypes[\"Type of data\"].tolist(),\n",
    "    \"data\": [{\"description\": descriptions[i], \"data\": data_dtfs[i].to_dict(orient='list')} for i in range(len(data_dtfs))]\n",
    "}\n",
    "\n",
    "# print(dfNamesCodesTypes)\n",
    "# print(list(df1))\n",
    "# print(df7.to_dict(orient='list'))\n",
    "# print([{\"description\": descriptions[i], \"data\": data_dtfs[i].to_dict(orient='list')} for i in range(len(data_dtfs))])"
   ]
  },
  {
   "cell_type": "code",
   "execution_count": 8,
   "metadata": {},
   "outputs": [],
   "source": [
    "with open(\"../../website/data/undesa_data.json\", \"w\") as outfile:\n",
    "    json.dump(data_undesa, outfile)"
   ]
  }
 ],
 "metadata": {
  "kernelspec": {
   "display_name": "bio411",
   "language": "python",
   "name": "python3"
  },
  "language_info": {
   "codemirror_mode": {
    "name": "ipython",
    "version": 3
   },
   "file_extension": ".py",
   "mimetype": "text/x-python",
   "name": "python",
   "nbconvert_exporter": "python",
   "pygments_lexer": "ipython3",
   "version": "3.9.18"
  }
 },
 "nbformat": 4,
 "nbformat_minor": 2
}
